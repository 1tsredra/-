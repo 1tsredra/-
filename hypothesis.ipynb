{
 "cells": [
  {
   "cell_type": "markdown",
   "id": "adf72979",
   "metadata": {},
   "source": [
    "## Проверка гипотез"
   ]
  },
  {
   "cell_type": "code",
   "execution_count": 2,
   "id": "53deb5cc",
   "metadata": {},
   "outputs": [
    {
     "data": {
      "text/html": [
       "<div>\n",
       "<style scoped>\n",
       "    .dataframe tbody tr th:only-of-type {\n",
       "        vertical-align: middle;\n",
       "    }\n",
       "\n",
       "    .dataframe tbody tr th {\n",
       "        vertical-align: top;\n",
       "    }\n",
       "\n",
       "    .dataframe thead th {\n",
       "        text-align: right;\n",
       "    }\n",
       "</style>\n",
       "<table border=\"1\" class=\"dataframe\">\n",
       "  <thead>\n",
       "    <tr style=\"text-align: right;\">\n",
       "      <th></th>\n",
       "      <th>Объем</th>\n",
       "      <th>Бренд</th>\n",
       "      <th>Цена со скидкой</th>\n",
       "      <th>Цена</th>\n",
       "      <th>Тип вина</th>\n",
       "      <th>Цвет</th>\n",
       "      <th>Сахар</th>\n",
       "      <th>Страна производителя</th>\n",
       "      <th>Регион</th>\n",
       "      <th>Аппелласьон</th>\n",
       "      <th>Производитель</th>\n",
       "      <th>Категория</th>\n",
       "      <th>Сорт винограда</th>\n",
       "      <th>Выдержка в ёмкости</th>\n",
       "      <th>Содержание алкоголя</th>\n",
       "      <th>Температура подачи</th>\n",
       "      <th>Friendly</th>\n",
       "      <th>BiO</th>\n",
       "      <th>Винтаж</th>\n",
       "      <th>Подарочная упаковка</th>\n",
       "    </tr>\n",
       "  </thead>\n",
       "  <tbody>\n",
       "    <tr>\n",
       "      <th>0</th>\n",
       "      <td>0.75</td>\n",
       "      <td>Chateau Pinot</td>\n",
       "      <td>580.0</td>\n",
       "      <td>725.0</td>\n",
       "      <td>Тихое</td>\n",
       "      <td>Красное</td>\n",
       "      <td>Сухое</td>\n",
       "      <td>Россия</td>\n",
       "      <td>Краснодарский край</td>\n",
       "      <td>Кубань. Новороссийск ЗГУ</td>\n",
       "      <td>Chateau Pinot</td>\n",
       "      <td>ЗГУ</td>\n",
       "      <td>Пино нуарСаперави</td>\n",
       "      <td>Стальной чан</td>\n",
       "      <td>13.0</td>\n",
       "      <td>17.0</td>\n",
       "      <td>0</td>\n",
       "      <td>0</td>\n",
       "      <td>unknown</td>\n",
       "      <td>0</td>\n",
       "    </tr>\n",
       "    <tr>\n",
       "      <th>1</th>\n",
       "      <td>0.75</td>\n",
       "      <td>Bogarve 1915</td>\n",
       "      <td>1160.0</td>\n",
       "      <td>1450.0</td>\n",
       "      <td>Тихое</td>\n",
       "      <td>Красное</td>\n",
       "      <td>Сладкое</td>\n",
       "      <td>Испания</td>\n",
       "      <td>unknown</td>\n",
       "      <td>unknown</td>\n",
       "      <td>Bogarve 1915</td>\n",
       "      <td>unknown</td>\n",
       "      <td>Гарнача тинторера</td>\n",
       "      <td>Бочка</td>\n",
       "      <td>15.0</td>\n",
       "      <td>15.0</td>\n",
       "      <td>0</td>\n",
       "      <td>0</td>\n",
       "      <td>unknown</td>\n",
       "      <td>0</td>\n",
       "    </tr>\n",
       "    <tr>\n",
       "      <th>2</th>\n",
       "      <td>0.70</td>\n",
       "      <td>Olymp Winery</td>\n",
       "      <td>470.0</td>\n",
       "      <td>470.0</td>\n",
       "      <td>Тихое</td>\n",
       "      <td>Белое</td>\n",
       "      <td>Полусладкое</td>\n",
       "      <td>Россия</td>\n",
       "      <td>Краснодарский край</td>\n",
       "      <td>unknown</td>\n",
       "      <td>Olymp Winery</td>\n",
       "      <td>unknown</td>\n",
       "      <td>Мускат</td>\n",
       "      <td>unknown</td>\n",
       "      <td>11.0</td>\n",
       "      <td>11.0</td>\n",
       "      <td>0</td>\n",
       "      <td>0</td>\n",
       "      <td>unknown</td>\n",
       "      <td>0</td>\n",
       "    </tr>\n",
       "    <tr>\n",
       "      <th>3</th>\n",
       "      <td>0.75</td>\n",
       "      <td>Бурлюк</td>\n",
       "      <td>337.0</td>\n",
       "      <td>421.0</td>\n",
       "      <td>Тихое</td>\n",
       "      <td>Розовое</td>\n",
       "      <td>Полусухое</td>\n",
       "      <td>Россия</td>\n",
       "      <td>Крым</td>\n",
       "      <td>unknown</td>\n",
       "      <td>Бурлюк</td>\n",
       "      <td>unknown</td>\n",
       "      <td>РкацителиМолдова</td>\n",
       "      <td>Стальной чан</td>\n",
       "      <td>10.5</td>\n",
       "      <td>9.0</td>\n",
       "      <td>0</td>\n",
       "      <td>0</td>\n",
       "      <td>unknown</td>\n",
       "      <td>0</td>\n",
       "    </tr>\n",
       "    <tr>\n",
       "      <th>4</th>\n",
       "      <td>0.75</td>\n",
       "      <td>Felix Solis Avantis</td>\n",
       "      <td>954.0</td>\n",
       "      <td>1193.0</td>\n",
       "      <td>Тихое</td>\n",
       "      <td>Розовое</td>\n",
       "      <td>Полусухое</td>\n",
       "      <td>Испания</td>\n",
       "      <td>unknown</td>\n",
       "      <td>unknown</td>\n",
       "      <td>Felix Solis Avantis</td>\n",
       "      <td>unknown</td>\n",
       "      <td>ГарначаБобальТемпранильо</td>\n",
       "      <td>Стальной чан</td>\n",
       "      <td>13.0</td>\n",
       "      <td>9.0</td>\n",
       "      <td>0</td>\n",
       "      <td>0</td>\n",
       "      <td>unknown</td>\n",
       "      <td>0</td>\n",
       "    </tr>\n",
       "  </tbody>\n",
       "</table>\n",
       "</div>"
      ],
      "text/plain": [
       "   Объем                Бренд  Цена со скидкой    Цена Тип вина     Цвет  \\\n",
       "0   0.75        Chateau Pinot            580.0   725.0    Тихое  Красное   \n",
       "1   0.75         Bogarve 1915           1160.0  1450.0    Тихое  Красное   \n",
       "2   0.70         Olymp Winery            470.0   470.0    Тихое    Белое   \n",
       "3   0.75               Бурлюк            337.0   421.0    Тихое  Розовое   \n",
       "4   0.75  Felix Solis Avantis            954.0  1193.0    Тихое  Розовое   \n",
       "\n",
       "         Сахар Страна производителя              Регион  \\\n",
       "0        Сухое               Россия  Краснодарский край   \n",
       "1      Сладкое              Испания             unknown   \n",
       "2  Полусладкое               Россия  Краснодарский край   \n",
       "3    Полусухое               Россия                Крым   \n",
       "4    Полусухое              Испания             unknown   \n",
       "\n",
       "                Аппелласьон        Производитель Категория  \\\n",
       "0  Кубань. Новороссийск ЗГУ        Chateau Pinot       ЗГУ   \n",
       "1                   unknown         Bogarve 1915   unknown   \n",
       "2                   unknown         Olymp Winery   unknown   \n",
       "3                   unknown               Бурлюк   unknown   \n",
       "4                   unknown  Felix Solis Avantis   unknown   \n",
       "\n",
       "             Сорт винограда Выдержка в ёмкости  Содержание алкоголя  \\\n",
       "0         Пино нуарСаперави       Стальной чан                 13.0   \n",
       "1         Гарнача тинторера              Бочка                 15.0   \n",
       "2                    Мускат            unknown                 11.0   \n",
       "3          РкацителиМолдова       Стальной чан                 10.5   \n",
       "4  ГарначаБобальТемпранильо       Стальной чан                 13.0   \n",
       "\n",
       "   Температура подачи  Friendly  BiO   Винтаж  Подарочная упаковка  \n",
       "0                17.0         0    0  unknown                    0  \n",
       "1                15.0         0    0  unknown                    0  \n",
       "2                11.0         0    0  unknown                    0  \n",
       "3                 9.0         0    0  unknown                    0  \n",
       "4                 9.0         0    0  unknown                    0  "
      ]
     },
     "execution_count": 2,
     "metadata": {},
     "output_type": "execute_result"
    }
   ],
   "source": [
    "import re\n",
    "import pandas as pd\n",
    "import numpy as np\n",
    "import seaborn as sns\n",
    "import matplotlib.pyplot as plt\n",
    "import warnings\n",
    "from scipy import stats\n",
    "\n",
    "warnings.filterwarnings('ignore')\n",
    "\n",
    "\n",
    "df = pd.read_csv('dataset.csv')\n",
    "df.head()"
   ]
  },
  {
   "cell_type": "code",
   "execution_count": 14,
   "id": "cd536f97",
   "metadata": {},
   "outputs": [
    {
     "data": {
      "text/plain": [
       "Страна производителя\n",
       "Италия       545\n",
       "Франция      480\n",
       "Россия       476\n",
       "Испания      223\n",
       "Чили         114\n",
       "Грузия        98\n",
       "Аргентина     67\n",
       "Германия      64\n",
       "ЮАР           59\n",
       "США           52\n",
       "Name: count, dtype: int64"
      ]
     },
     "execution_count": 14,
     "metadata": {},
     "output_type": "execute_result"
    }
   ],
   "source": [
    "df['Страна производителя'].value_counts()[:10]"
   ]
  },
  {
   "cell_type": "code",
   "execution_count": 16,
   "id": "3ad2b5bf",
   "metadata": {},
   "outputs": [],
   "source": [
    "rus = df.loc[df['Страна производителя'] == 'Россия', 'Цена']\n",
    "france = df.loc[df['Страна производителя'] == 'Франция', 'Цена']"
   ]
  },
  {
   "cell_type": "code",
   "execution_count": 27,
   "id": "cf148cf0",
   "metadata": {
    "scrolled": false
   },
   "outputs": [
    {
     "data": {
      "image/png": "[encoded data removed]",
      "text/plain": [
       "<Figure size 864x432 with 1 Axes>"
      ]
     },
     "metadata": {
      "needs_background": "light"
     },
     "output_type": "display_data"
    }
   ],
   "source": [
    "fig = plt.subplots(figsize=(12, 6))\n",
    "sns.histplot(rus, color='red', alpha=0.5, bins=50, label='Россия')\n",
    "sns.histplot(france[:476], color='blue', alpha=0.5, bins=50, label='Франция')\n",
    "plt.legend()\n",
    "\n",
    "plt.show()"
   ]
  },
  {
   "cell_type": "markdown",
   "id": "ff480409",
   "metadata": {},
   "source": [
    "Тут и так видно, что распределения сильно отличаются, но посмотрим на тест Уилкоксона, так как тут не нормальные распределения"
   ]
  },
  {
   "cell_type": "code",
   "execution_count": 36,
   "id": "1308859b",
   "metadata": {},
   "outputs": [
    {
     "name": "stdout",
     "output_type": "stream",
     "text": [
      "Гипотеза отвергается\n"
     ]
    }
   ],
   "source": [
    "stat, p_value = stats.wilcoxon(sorted(rus), sorted(france[:476]), alternative='less') # одинаковые размеры выборок требует\n",
    "\n",
    "if p_value < 0.05:\n",
    "    print('Гипотеза отвергается')\n",
    "else:\n",
    "    print('Гипотеза не отвергается')"
   ]
  },
  {
   "cell_type": "markdown",
   "id": "b2d98bfc",
   "metadata": {},
   "source": [
    "Видим, что нулевая гипотеза о равенстве отвергается, поэтому принимаем альтернативную, где цены на российские вина меньше, чем французские"
   ]
  },
  {
   "cell_type": "code",
   "execution_count": 28,
   "id": "bec7f3c9",
   "metadata": {},
   "outputs": [],
   "source": [
    "italy = df.loc[df['Страна производителя'] == 'Италия', 'Цена']"
   ]
  },
  {
   "cell_type": "code",
   "execution_count": 31,
   "id": "97d72ea0",
   "metadata": {},
   "outputs": [
    {
     "data": {
      "image/png": "[encoded data removed]",
      "text/plain": [
       "<Figure size 864x432 with 1 Axes>"
      ]
     },
     "metadata": {
      "needs_background": "light"
     },
     "output_type": "display_data"
    }
   ],
   "source": [
    "fig = plt.subplots(figsize=(12, 6))\n",
    "sns.histplot(italy[:480], color='red', alpha=0.5, bins=50, label='Италия')\n",
    "sns.histplot(france, color='blue', alpha=0.5, bins=50, label='Франция')\n",
    "plt.legend()\n",
    "\n",
    "plt.show()"
   ]
  },
  {
   "cell_type": "code",
   "execution_count": 41,
   "id": "92840186",
   "metadata": {
    "scrolled": true
   },
   "outputs": [
    {
     "name": "stdout",
     "output_type": "stream",
     "text": [
      "Гипотеза отвергается\n"
     ]
    }
   ],
   "source": [
    "stat, p_value = stats.wilcoxon(sorted(italy[:480]), sorted(france), alternative='less') # одинаковые размеры выборок требует\n",
    "\n",
    "if p_value < 0.05:\n",
    "    print('Гипотеза отвергается')\n",
    "else:\n",
    "    print('Гипотеза не отвергается')"
   ]
  },
  {
   "cell_type": "markdown",
   "id": "6ad2b14f",
   "metadata": {},
   "source": [
    "Здесь получилось так, что итальянские вина дешевле, чем французские. Но скорее всего дело в слишком длинном хвосте"
   ]
  },
  {
   "cell_type": "code",
   "execution_count": 42,
   "id": "6de8eaf0",
   "metadata": {},
   "outputs": [],
   "source": [
    "df = df.loc[df['Цена'] < 30000]"
   ]
  },
  {
   "cell_type": "code",
   "execution_count": 43,
   "id": "d067d529",
   "metadata": {},
   "outputs": [],
   "source": [
    "rus = df.loc[df['Страна производителя'] == 'Россия', 'Цена']\n",
    "france = df.loc[df['Страна производителя'] == 'Франция', 'Цена']\n",
    "italy = df.loc[df['Страна производителя'] == 'Италия', 'Цена']"
   ]
  },
  {
   "cell_type": "code",
   "execution_count": 44,
   "id": "d8125aa5",
   "metadata": {},
   "outputs": [
    {
     "data": {
      "text/plain": [
       "((476,), (404,), (505,))"
      ]
     },
     "execution_count": 44,
     "metadata": {},
     "output_type": "execute_result"
    }
   ],
   "source": [
    "rus.shape, france.shape, italy.shape"
   ]
  },
  {
   "cell_type": "code",
   "execution_count": 46,
   "id": "0e7589c0",
   "metadata": {},
   "outputs": [
    {
     "data": {
      "image/png": "[encoded data removed]",
      "text/plain": [
       "<Figure size 864x432 with 1 Axes>"
      ]
     },
     "metadata": {
      "needs_background": "light"
     },
     "output_type": "display_data"
    }
   ],
   "source": [
    "fig = plt.subplots(figsize=(12, 6))\n",
    "sns.histplot(italy[:404], color='red', alpha=0.5, bins=50, label='Италия')\n",
    "sns.histplot(france, color='blue', alpha=0.5, bins=50, label='Франция')\n",
    "plt.legend()\n",
    "\n",
    "plt.show()"
   ]
  },
  {
   "cell_type": "code",
   "execution_count": 45,
   "id": "ee0cd834",
   "metadata": {},
   "outputs": [
    {
     "name": "stdout",
     "output_type": "stream",
     "text": [
      "Гипотеза отвергается\n"
     ]
    }
   ],
   "source": [
    "stat, p_value = stats.wilcoxon(sorted(italy[:404]), sorted(france), alternative='less') # одинаковые размеры выборок требует\n",
    "\n",
    "if p_value < 0.05:\n",
    "    print('Гипотеза отвергается')\n",
    "else:\n",
    "    print('Гипотеза не отвергается')"
   ]
  },
  {
   "cell_type": "markdown",
   "id": "7dfaf051",
   "metadata": {},
   "source": [
    "Без выбросов картина не поменялась, итальянские вина в основном дешевле, чем французские, можно сделать вывод, что страна производителя влияет на цену вина."
   ]
  },
  {
   "cell_type": "markdown",
   "id": "4a65bd6a",
   "metadata": {},
   "source": [
    "Проверим гипотезу о том, влияет ли ёмкость, в которой выдерживают вино, на цену"
   ]
  },
  {
   "cell_type": "code",
   "execution_count": 47,
   "id": "1566b3f6",
   "metadata": {},
   "outputs": [
    {
     "data": {
      "text/plain": [
       "array(['Стальной чан', 'Бочка', 'unknown', 'Цементная емкость', 'Квеври',\n",
       "       'Бутылка', 'Амфора'], dtype=object)"
      ]
     },
     "execution_count": 47,
     "metadata": {},
     "output_type": "execute_result"
    }
   ],
   "source": [
    "df['Выдержка в ёмкости'].unique()"
   ]
  },
  {
   "cell_type": "code",
   "execution_count": 48,
   "id": "47fe8b8f",
   "metadata": {},
   "outputs": [],
   "source": [
    "steel_vat = df.loc[df['Выдержка в ёмкости'] == 'Стальной чан', 'Цена']\n",
    "barrel = df.loc[df['Выдержка в ёмкости'] == 'Бочка', 'Цена']"
   ]
  },
  {
   "cell_type": "code",
   "execution_count": 50,
   "id": "f7c2deb4",
   "metadata": {},
   "outputs": [
    {
     "data": {
      "text/plain": [
       "((856,), (968,))"
      ]
     },
     "execution_count": 50,
     "metadata": {},
     "output_type": "execute_result"
    }
   ],
   "source": [
    "steel_vat.shape, barrel.shape"
   ]
  },
  {
   "cell_type": "code",
   "execution_count": 51,
   "id": "2be9a1d8",
   "metadata": {},
   "outputs": [
    {
     "data": {
      "image/png": "[encoded data removed]",
      "text/plain": [
       "<Figure size 864x432 with 1 Axes>"
      ]
     },
     "metadata": {
      "needs_background": "light"
     },
     "output_type": "display_data"
    }
   ],
   "source": [
    "fig = plt.subplots(figsize=(12, 6))\n",
    "sns.histplot(barrel[:856], color='red', alpha=0.5, bins=50, label='Бочка')\n",
    "sns.histplot(steel_vat, color='blue', alpha=0.5, bins=50, label='Стальной чан')\n",
    "plt.legend()\n",
    "\n",
    "plt.show()"
   ]
  },
  {
   "cell_type": "code",
   "execution_count": 52,
   "id": "0c3f7ee8",
   "metadata": {},
   "outputs": [
    {
     "name": "stdout",
     "output_type": "stream",
     "text": [
      "Гипотеза не отвергается\n"
     ]
    }
   ],
   "source": [
    "stat, p_value = stats.wilcoxon(sorted(barrel[:856]), sorted(steel_vat), alternative='less') # одинаковые размеры выборок требует\n",
    "\n",
    "if p_value < 0.05:\n",
    "    print('Гипотеза отвергается')\n",
    "else:\n",
    "    print('Гипотеза не отвергается')"
   ]
  },
  {
   "cell_type": "markdown",
   "id": "b863968a",
   "metadata": {},
   "source": [
    "Не принята альтернативная гипотеза о том, что вина, выдержанные в бочке, дешевле, следовательно они дороже :) И цена зависит от ёмкости стат. значимо."
   ]
  },
  {
   "cell_type": "code",
   "execution_count": null,
   "id": "c694b95c",
   "metadata": {},
   "outputs": [],
   "source": []
  }
 ],
 "metadata": {
  "kernelspec": {
   "display_name": "Python 3 (ipykernel)",
   "language": "python",
   "name": "python3"
  },
  "language_info": {
   "codemirror_mode": {
    "name": "ipython",
    "version": 3
   },
   "file_extension": ".py",
   "mimetype": "text/x-python",
   "name": "python",
   "nbconvert_exporter": "python",
   "pygments_lexer": "ipython3",
   "version": "3.9.7"
  }
 },
 "nbformat": 4,
 "nbformat_minor": 5
}
