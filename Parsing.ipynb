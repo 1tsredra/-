{
 "cells": [
  {
   "cell_type": "code",
   "execution_count": 2,
   "metadata": {
    "id": "cL2-nNNom1IE",
    "scrolled": false
   },
   "outputs": [
    {
     "name": "stdout",
     "output_type": "stream",
     "text": [
      "Collecting fake_useragent\n",
      "  Downloading fake_useragent-1.5.1-py3-none-any.whl.metadata (15 kB)\n",
      "Collecting importlib-resources>=5.0 (from fake_useragent)\n",
      "  Downloading importlib_resources-6.4.0-py3-none-any.whl.metadata (3.9 kB)\n",
      "Collecting zipp>=3.1.0 (from importlib-resources>=5.0->fake_useragent)\n",
      "  Downloading zipp-3.18.1-py3-none-any.whl.metadata (3.5 kB)\n",
      "Downloading fake_useragent-1.5.1-py3-none-any.whl (17 kB)\n",
      "Downloading importlib_resources-6.4.0-py3-none-any.whl (38 kB)\n",
      "Downloading zipp-3.18.1-py3-none-any.whl (8.2 kB)\n",
      "Installing collected packages: zipp, importlib-resources, fake_useragent\n",
      "Successfully installed fake_useragent-1.5.1 importlib-resources-6.4.0 zipp-3.18.1\n",
      "Collecting selenium\n",
      "  Downloading selenium-4.20.0-py3-none-any.whl.metadata (6.9 kB)\n",
      "Requirement already satisfied: urllib3<3,>=1.26 in c:\\users\\denis\\appdata\\local\\programs\\python\\python39\\lib\\site-packages (from urllib3[socks]<3,>=1.26->selenium) (1.26.8)\n",
      "Collecting trio~=0.17 (from selenium)\n",
      "  Downloading trio-0.25.0-py3-none-any.whl.metadata (8.7 kB)\n",
      "Collecting trio-websocket~=0.9 (from selenium)\n",
      "  Downloading trio_websocket-0.11.1-py3-none-any.whl.metadata (4.7 kB)\n",
      "Requirement already satisfied: certifi>=2021.10.8 in c:\\users\\denis\\appdata\\local\\programs\\python\\python39\\lib\\site-packages (from selenium) (2021.10.8)\n",
      "Collecting typing_extensions>=4.9.0 (from selenium)\n",
      "  Downloading typing_extensions-4.11.0-py3-none-any.whl.metadata (3.0 kB)\n",
      "Collecting attrs>=23.2.0 (from trio~=0.17->selenium)\n",
      "  Downloading attrs-23.2.0-py3-none-any.whl.metadata (9.5 kB)\n",
      "Collecting sortedcontainers (from trio~=0.17->selenium)\n",
      "  Downloading sortedcontainers-2.4.0-py2.py3-none-any.whl.metadata (10 kB)\n",
      "Requirement already satisfied: idna in c:\\users\\denis\\appdata\\local\\programs\\python\\python39\\lib\\site-packages (from trio~=0.17->selenium) (3.3)\n",
      "Collecting outcome (from trio~=0.17->selenium)\n",
      "  Downloading outcome-1.3.0.post0-py2.py3-none-any.whl.metadata (2.6 kB)\n",
      "Collecting sniffio>=1.3.0 (from trio~=0.17->selenium)\n",
      "  Downloading sniffio-1.3.1-py3-none-any.whl.metadata (3.9 kB)\n",
      "Requirement already satisfied: cffi>=1.14 in c:\\users\\denis\\appdata\\local\\programs\\python\\python39\\lib\\site-packages (from trio~=0.17->selenium) (1.15.0)\n",
      "Collecting exceptiongroup (from trio~=0.17->selenium)\n",
      "  Downloading exceptiongroup-1.2.1-py3-none-any.whl.metadata (6.6 kB)\n",
      "Collecting wsproto>=0.14 (from trio-websocket~=0.9->selenium)\n",
      "  Downloading wsproto-1.2.0-py3-none-any.whl.metadata (5.6 kB)\n",
      "Collecting PySocks!=1.5.7,<2.0,>=1.5.6 (from urllib3[socks]<3,>=1.26->selenium)\n",
      "  Downloading PySocks-1.7.1-py3-none-any.whl.metadata (13 kB)\n",
      "Requirement already satisfied: pycparser in c:\\users\\denis\\appdata\\local\\programs\\python\\python39\\lib\\site-packages (from cffi>=1.14->trio~=0.17->selenium) (2.21)\n",
      "Collecting h11<1,>=0.9.0 (from wsproto>=0.14->trio-websocket~=0.9->selenium)\n",
      "  Downloading h11-0.14.0-py3-none-any.whl.metadata (8.2 kB)\n",
      "Downloading selenium-4.20.0-py3-none-any.whl (9.5 MB)\n",
      "   ---------------------------------------- 9.5/9.5 MB 16.9 MB/s eta 0:00:00\n",
      "Downloading trio-0.25.0-py3-none-any.whl (467 kB)\n",
      "   --------------------------------------- 467.2/467.2 kB 14.7 MB/s eta 0:00:00\n",
      "Downloading trio_websocket-0.11.1-py3-none-any.whl (17 kB)\n",
      "Downloading typing_extensions-4.11.0-py3-none-any.whl (34 kB)\n",
      "Downloading attrs-23.2.0-py3-none-any.whl (60 kB)\n",
      "   ---------------------------------------- 60.8/60.8 kB 3.4 MB/s eta 0:00:00\n",
      "Downloading PySocks-1.7.1-py3-none-any.whl (16 kB)\n",
      "Downloading sniffio-1.3.1-py3-none-any.whl (10 kB)\n",
      "Downloading wsproto-1.2.0-py3-none-any.whl (24 kB)\n",
      "Downloading exceptiongroup-1.2.1-py3-none-any.whl (16 kB)\n",
      "Downloading outcome-1.3.0.post0-py2.py3-none-any.whl (10 kB)\n",
      "Downloading sortedcontainers-2.4.0-py2.py3-none-any.whl (29 kB)\n",
      "Downloading h11-0.14.0-py3-none-any.whl (58 kB)\n",
      "   ---------------------------------------- 58.3/58.3 kB ? eta 0:00:00\n",
      "Installing collected packages: sortedcontainers, typing_extensions, sniffio, PySocks, h11, exceptiongroup, attrs, wsproto, outcome, trio, trio-websocket, selenium\n",
      "  Attempting uninstall: attrs\n",
      "    Found existing installation: attrs 21.4.0\n",
      "    Uninstalling attrs-21.4.0:\n",
      "      Successfully uninstalled attrs-21.4.0\n",
      "Successfully installed PySocks-1.7.1 attrs-23.2.0 exceptiongroup-1.2.1 h11-0.14.0 outcome-1.3.0.post0 selenium-4.20.0 sniffio-1.3.1 sortedcontainers-2.4.0 trio-0.25.0 trio-websocket-0.11.1 typing_extensions-4.11.0 wsproto-1.2.0\n"
     ]
    }
   ],
   "source": [
    "!pip install fake_useragent\n",
    "!pip install selenium"
   ]
  },
  {
   "cell_type": "code",
   "execution_count": 1,
   "metadata": {
    "id": "Bbq33fhi1iPu"
   },
   "outputs": [],
   "source": [
    "import re\n",
    "import requests\n",
    "import pandas as pd\n",
    "from bs4 import BeautifulSoup\n",
    "import time\n",
    "# from tqdm.notebook import tqdm\n",
    "from threading import Thread\n",
    "from tqdm import tqdm\n",
    "from fake_useragent import UserAgent\n",
    "from selenium import webdriver\n",
    "from selenium.webdriver.common.by import By\n",
    "from selenium.webdriver.common.by import By\n",
    "from selenium.webdriver.support.ui import WebDriverWait\n",
    "from selenium.webdriver.support import expected_conditions as EC"
   ]
  },
  {
   "cell_type": "code",
   "execution_count": null,
   "metadata": {
    "id": "4rvJLJFJIWt1"
   },
   "outputs": [],
   "source": [
    "# pip install chromedriver-py"
   ]
  },
  {
   "cell_type": "code",
   "execution_count": null,
   "metadata": {
    "colab": {
     "base_uri": "https://localhost:8080/",
     "height": 445
    },
    "id": "4fpq7GZnJbKK",
    "outputId": "62b79c3a-d72c-49d9-9f12-19f241b40ce8",
    "scrolled": false
   },
   "outputs": [],
   "source": [
    "options = webdriver.ChromeOptions()\n",
    "options.add_argument('--headless')\n",
    "options.add_argument('--no-sandbox')\n",
    "options.add_argument(\"--disable-extensions\")\n",
    "options.headless = True\n",
    "\n",
    "card_links = []\n",
    "\n",
    "for i in tqdm(range(1, 100)):\n",
    "    with webdriver.Chrome(options=options) as driver:\n",
    "        driver.get(f'https://luding.ru/collection/wine/?PAGEN_1={i}')\n",
    "        tree = BeautifulSoup(driver.page_source, 'html.parser')\n",
    "        card_links.extend(re.findall(r'class=\"link-absolute\" href=\"(\\S*)\"', str(tree)))\n",
    "        time.sleep(0.5)\n",
    "\n",
    "card_links = set(card_links)\n",
    "card_links"
   ]
  },
  {
   "cell_type": "code",
   "execution_count": null,
   "metadata": {
    "id": "bsGpm4wDKP8Z",
    "scrolled": false
   },
   "outputs": [],
   "source": [
    "with open('urls.txt', 'w') as f:\n",
    "    for card in card_links:\n",
    "        f.write('https://luding.ru' + card)\n",
    "        f.write('\\n')"
   ]
  },
  {
   "cell_type": "code",
   "execution_count": 20,
   "metadata": {
    "id": "wO7Yg0saRPhI"
   },
   "outputs": [],
   "source": [
    "with open('bad_urls.txt') as f:\n",
    "    urls = f.readlines()"
   ]
  },
  {
   "cell_type": "code",
   "execution_count": null,
   "metadata": {
    "colab": {
     "base_uri": "https://localhost:8080/"
    },
    "id": "OnotNQEnJ-4t",
    "outputId": "54a99efd-678d-4c0f-8df2-f13c5ced491e"
   },
   "outputs": [
    {
     "name": "stdout",
     "output_type": "stream",
     "text": [
      "https://luding.ru/collection/item/gravitation-pinot-noir-saperavi-kuban-novorossiysk-chateau-pinot--284957/\n",
      "\n",
      "https://luding.ru/collection/item/altra-terra-kagor-bogarve-1915--383319/\n",
      "\n",
      "https://luding.ru/collection/item/temryukskiy-pogreb-muskat--20432/\n",
      "\n",
      "https://luding.ru/collection/item/ya-hochu-odin-plyasat-rose-fler-burlyuk--386734/\n",
      "\n",
      "https://luding.ru/collection/item/5-fincas-emporda-do-reserva-castillo-perelada-gift-box--27139/\n",
      "\n"
     ]
    }
   ],
   "source": [
    "for url in urls[:5]:\n",
    "    print(url)"
   ]
  },
  {
   "cell_type": "code",
   "execution_count": 10,
   "metadata": {},
   "outputs": [
    {
     "data": {
      "text/plain": [
       "2376"
      ]
     },
     "execution_count": 10,
     "metadata": {},
     "output_type": "execute_result"
    }
   ],
   "source": [
    "len(urls)"
   ]
  },
  {
   "cell_type": "code",
   "execution_count": 3,
   "metadata": {},
   "outputs": [
    {
     "data": {
      "text/plain": [
       "24"
      ]
     },
     "execution_count": 3,
     "metadata": {},
     "output_type": "execute_result"
    }
   ],
   "source": [
    "cols = ['Объем', 'Бренд', 'Цена со скидкой',\n",
    "        'Цена', 'Тип вина', 'Цвет', 'Сахар',\n",
    "        'Страна производителя', 'Регион',\n",
    "        'Аппелласьон', 'Производитель',\n",
    "        'Категория', 'Бренд / Серия',\n",
    "        'Сорт винограда', 'Выдержка в ёмкости',\n",
    "        'Содержание алкоголя',\n",
    "        'Количество в упаковке', 'Температура подачи', \n",
    "        'Friendly', 'BiO', 'Винтаж', 'Субрегион', \n",
    "        'Выдержка', 'Подарочная упаковка']\n",
    "\n",
    "len(cols)"
   ]
  },
  {
   "cell_type": "code",
   "execution_count": null,
   "metadata": {
    "colab": {
     "base_uri": "https://localhost:8080/"
    },
    "id": "a5XfFpeXLwBd",
    "outputId": "f384b27f-7cde-4674-b9da-c7872de5d486",
    "scrolled": false
   },
   "outputs": [],
   "source": [
    "from csv import DictWriter\n",
    "\n",
    "cols = ['Объем', 'Бренд', 'Цена со скидкой',\n",
    "        'Цена', 'Тип вина', 'Цвет', 'Сахар',\n",
    "        'Страна производителя', 'Регион',\n",
    "        'Аппелласьон', 'Производитель',\n",
    "        'Категория', 'Бренд / Серия',\n",
    "        'Сорт винограда', 'Выдержка в ёмкости',\n",
    "        'Содержание алкоголя',\n",
    "        'Количество в упаковке', 'Температура подачи', \n",
    "        'Friendly', 'BiO', 'Винтаж', 'Субрегион', \n",
    "        'Выдержка', 'Подарочная упаковка']\n",
    "\n",
    "options = webdriver.ChromeOptions()\n",
    "options.add_argument('--headless')\n",
    "options.add_argument('--no-sandbox')\n",
    "options.add_argument(\"--disable-extensions\")\n",
    "options.add_argument(\"--disable-dev-shm-usage\")\n",
    "options.add_argument('--remote-debugging-pipe')\n",
    "options.add_argument(\"--dns-prefetch-disable\");\n",
    "options.add_argument(\"--disable-gpu\");\n",
    "options.headless = True\n",
    "\n",
    "driver = webdriver.Chrome(options=options)\n",
    "\n",
    "for url in tqdm(urls):\n",
    "    try:\n",
    "        time.sleep(np.random.rand())\n",
    "        driver.get(url)\n",
    "        tree = BeautifulSoup(driver.page_source, 'html.parser')\n",
    "            \n",
    "        description = dict.fromkeys(cols)\n",
    "        parent_div = tree.find('div', class_='rdd-body__col-description')\n",
    "        description['Цена'] = tree.find('span', class_='rdd-price__main').get_text(strip=True)\n",
    "\n",
    "        if tree.find('span', class_='rdd-price__discount'):\n",
    "            description['Цена со скидкой'] = tree.find('span', class_='rdd-price__discount').get_text(strip=True)\n",
    "        else:\n",
    "            description['Цена со скидкой'] = description['Цена']\n",
    "\n",
    "        description['Объем'] = parent_div.find('a', class_='rdd-volumes__link').get_text(strip=True)\n",
    "        description['Бренд'] = parent_div.find('a', class_='rdd-brands__link').get_text(strip=True)\n",
    "\n",
    "        properties = parent_div.find('div', class_='rdd-properties')\n",
    "        rows = properties.findAll('div', class_='rdd-properties__group')\n",
    "\n",
    "        for row in rows:\n",
    "            names = row.findAll('div', class_='rdd-properties__name-dots')\n",
    "            values = row.findAll('div', class_='rdd-properties__value')\n",
    "\n",
    "            for name, value in zip(names, values):\n",
    "                description[name.get_text(strip=True)] = value.get_text(strip=True)\n",
    "\n",
    "        with open('data_save.csv', 'a',  encoding=\"utf-8\") as f:\n",
    "            dictwriter_object = DictWriter(f, fieldnames=cols)\n",
    "            dictwriter_object.writerow(description)\n",
    "\n",
    "#         df = df._append(description, ignore_index=True)\n",
    "    except Exception as e:\n",
    "        print(e)\n",
    "        with open('bad_urls.txt', 'a') as f:\n",
    "            f.write(url)\n",
    "\n",
    "# df.to_csv('data.csv', index=False)\n",
    "# df.head()"
   ]
  },
  {
   "cell_type": "code",
   "execution_count": 11,
   "metadata": {},
   "outputs": [
    {
     "name": "stdout",
     "output_type": "stream",
     "text": [
      "['0.75,Chateau Pinot,580₽,725₽,Тихое,Красное,Сухое,Россия,Краснодарский край,Кубань. Новороссийск ЗГУ,Chateau Pinot,ЗГУ,Chateau PinotГравитация,Пино нуарСаперави,Стальной чан,13%,6,16-18\\n', '\\n']\n"
     ]
    }
   ],
   "source": [
    "with open('data_save.csv', 'r', encoding=\"utf-8\") as f:\n",
    "    print(f.readlines())"
   ]
  },
  {
   "cell_type": "code",
   "execution_count": 9,
   "metadata": {},
   "outputs": [
    {
     "data": {
      "text/plain": [
       "{'Цена': '725₽',\n",
       " 'Цена со скидкой': '580₽',\n",
       " 'Объем': '0.75',\n",
       " 'Бренд': 'Chateau Pinot',\n",
       " 'Тип вина': 'Тихое',\n",
       " 'Цвет': 'Красное',\n",
       " 'Сахар': 'Сухое',\n",
       " 'Страна производителя': 'Россия',\n",
       " 'Регион': 'Краснодарский край',\n",
       " 'Аппелласьон': 'Кубань. Новороссийск ЗГУ',\n",
       " 'Производитель': 'Chateau Pinot',\n",
       " 'Категория': 'ЗГУ',\n",
       " 'Бренд / Серия': 'Chateau PinotГравитация',\n",
       " 'Сорт винограда': 'Пино нуарСаперави',\n",
       " 'Выдержка в ёмкости': 'Стальной чан',\n",
       " 'Содержание алкоголя': '13%',\n",
       " 'Количество в упаковке': '6',\n",
       " 'Температура подачи': '16-18'}"
      ]
     },
     "execution_count": 9,
     "metadata": {},
     "output_type": "execute_result"
    }
   ],
   "source": [
    "description"
   ]
  },
  {
   "cell_type": "code",
   "execution_count": null,
   "metadata": {
    "id": "KPnXjW5Vf-An"
   },
   "outputs": [],
   "source": [
    "df.to_csv('data_save.csv', index=False)"
   ]
  },
  {
   "cell_type": "code",
   "execution_count": 6,
   "metadata": {
    "id": "qVIR9eziie-D",
    "scrolled": true
   },
   "outputs": [
    {
     "data": {
      "text/html": [
       "<div>\n",
       "<style scoped>\n",
       "    .dataframe tbody tr th:only-of-type {\n",
       "        vertical-align: middle;\n",
       "    }\n",
       "\n",
       "    .dataframe tbody tr th {\n",
       "        vertical-align: top;\n",
       "    }\n",
       "\n",
       "    .dataframe thead th {\n",
       "        text-align: right;\n",
       "    }\n",
       "</style>\n",
       "<table border=\"1\" class=\"dataframe\">\n",
       "  <thead>\n",
       "    <tr style=\"text-align: right;\">\n",
       "      <th></th>\n",
       "      <th>Объем</th>\n",
       "      <th>Бренд</th>\n",
       "      <th>Цена со скидкой</th>\n",
       "      <th>Цена</th>\n",
       "      <th>Тип вина</th>\n",
       "      <th>Цвет</th>\n",
       "      <th>Сахар</th>\n",
       "      <th>Страна производителя</th>\n",
       "      <th>Регион</th>\n",
       "      <th>Аппелласьон</th>\n",
       "      <th>...</th>\n",
       "      <th>Выдержка в ёмкости</th>\n",
       "      <th>Содержание алкоголя</th>\n",
       "      <th>Количество в упаковке</th>\n",
       "      <th>Температура подачи</th>\n",
       "      <th>Friendly</th>\n",
       "      <th>BiO</th>\n",
       "      <th>Винтаж</th>\n",
       "      <th>Субрегион</th>\n",
       "      <th>Выдержка</th>\n",
       "      <th>Подарочная упаковка</th>\n",
       "    </tr>\n",
       "  </thead>\n",
       "  <tbody>\n",
       "    <tr>\n",
       "      <th>0</th>\n",
       "      <td>0.75</td>\n",
       "      <td>Chateau Pinot</td>\n",
       "      <td>580₽</td>\n",
       "      <td>725₽</td>\n",
       "      <td>Тихое</td>\n",
       "      <td>Красное</td>\n",
       "      <td>Сухое</td>\n",
       "      <td>Россия</td>\n",
       "      <td>Краснодарский край</td>\n",
       "      <td>Кубань. Новороссийск ЗГУ</td>\n",
       "      <td>...</td>\n",
       "      <td>Стальной чан</td>\n",
       "      <td>13%</td>\n",
       "      <td>6</td>\n",
       "      <td>16-18</td>\n",
       "      <td>NaN</td>\n",
       "      <td>NaN</td>\n",
       "      <td>NaN</td>\n",
       "      <td>NaN</td>\n",
       "      <td>NaN</td>\n",
       "      <td>NaN</td>\n",
       "    </tr>\n",
       "    <tr>\n",
       "      <th>1</th>\n",
       "      <td>0.75</td>\n",
       "      <td>Bogarve 1915</td>\n",
       "      <td>1 160₽</td>\n",
       "      <td>1 450₽</td>\n",
       "      <td>Тихое</td>\n",
       "      <td>Красное</td>\n",
       "      <td>Сладкое</td>\n",
       "      <td>Испания</td>\n",
       "      <td>NaN</td>\n",
       "      <td>NaN</td>\n",
       "      <td>...</td>\n",
       "      <td>Бочка</td>\n",
       "      <td>15%</td>\n",
       "      <td>6</td>\n",
       "      <td>14-16</td>\n",
       "      <td>NaN</td>\n",
       "      <td>NaN</td>\n",
       "      <td>NaN</td>\n",
       "      <td>NaN</td>\n",
       "      <td>NaN</td>\n",
       "      <td>NaN</td>\n",
       "    </tr>\n",
       "    <tr>\n",
       "      <th>2</th>\n",
       "      <td>0.7</td>\n",
       "      <td>Olymp Winery</td>\n",
       "      <td>470₽</td>\n",
       "      <td>470₽</td>\n",
       "      <td>Тихое</td>\n",
       "      <td>Белое</td>\n",
       "      <td>Полусладкое</td>\n",
       "      <td>Россия</td>\n",
       "      <td>Краснодарский край</td>\n",
       "      <td>NaN</td>\n",
       "      <td>...</td>\n",
       "      <td>NaN</td>\n",
       "      <td>10% - 12%</td>\n",
       "      <td>6</td>\n",
       "      <td>10-12</td>\n",
       "      <td>NaN</td>\n",
       "      <td>NaN</td>\n",
       "      <td>NaN</td>\n",
       "      <td>NaN</td>\n",
       "      <td>NaN</td>\n",
       "      <td>NaN</td>\n",
       "    </tr>\n",
       "    <tr>\n",
       "      <th>3</th>\n",
       "      <td>0.75</td>\n",
       "      <td>Бурлюк</td>\n",
       "      <td>337₽</td>\n",
       "      <td>421₽</td>\n",
       "      <td>Тихое</td>\n",
       "      <td>Розовое</td>\n",
       "      <td>Полусухое</td>\n",
       "      <td>Россия</td>\n",
       "      <td>Крым</td>\n",
       "      <td>NaN</td>\n",
       "      <td>...</td>\n",
       "      <td>Стальной чан</td>\n",
       "      <td>10.00% - 11%</td>\n",
       "      <td>6</td>\n",
       "      <td>8-10</td>\n",
       "      <td>NaN</td>\n",
       "      <td>NaN</td>\n",
       "      <td>NaN</td>\n",
       "      <td>NaN</td>\n",
       "      <td>NaN</td>\n",
       "      <td>NaN</td>\n",
       "    </tr>\n",
       "    <tr>\n",
       "      <th>4</th>\n",
       "      <td>0.75</td>\n",
       "      <td>Felix Solis Avantis</td>\n",
       "      <td>954₽</td>\n",
       "      <td>1 193₽</td>\n",
       "      <td>Тихое</td>\n",
       "      <td>Розовое</td>\n",
       "      <td>Полусухое</td>\n",
       "      <td>Испания</td>\n",
       "      <td>NaN</td>\n",
       "      <td>NaN</td>\n",
       "      <td>...</td>\n",
       "      <td>Стальной чан</td>\n",
       "      <td>13%</td>\n",
       "      <td>6</td>\n",
       "      <td>8-10</td>\n",
       "      <td>NaN</td>\n",
       "      <td>NaN</td>\n",
       "      <td>NaN</td>\n",
       "      <td>NaN</td>\n",
       "      <td>NaN</td>\n",
       "      <td>NaN</td>\n",
       "    </tr>\n",
       "  </tbody>\n",
       "</table>\n",
       "<p>5 rows × 24 columns</p>\n",
       "</div>"
      ],
      "text/plain": [
       "  Объем                Бренд Цена со скидкой    Цена Тип вина     Цвет  \\\n",
       "0  0.75        Chateau Pinot            580₽    725₽    Тихое  Красное   \n",
       "1  0.75         Bogarve 1915          1 160₽  1 450₽    Тихое  Красное   \n",
       "2   0.7         Olymp Winery            470₽    470₽    Тихое    Белое   \n",
       "3  0.75               Бурлюк            337₽    421₽    Тихое  Розовое   \n",
       "4  0.75  Felix Solis Avantis            954₽  1 193₽    Тихое  Розовое   \n",
       "\n",
       "         Сахар Страна производителя              Регион  \\\n",
       "0        Сухое               Россия  Краснодарский край   \n",
       "1      Сладкое              Испания                 NaN   \n",
       "2  Полусладкое               Россия  Краснодарский край   \n",
       "3    Полусухое               Россия                Крым   \n",
       "4    Полусухое              Испания                 NaN   \n",
       "\n",
       "                Аппелласьон  ... Выдержка в ёмкости Содержание алкоголя  \\\n",
       "0  Кубань. Новороссийск ЗГУ  ...       Стальной чан                 13%   \n",
       "1                       NaN  ...              Бочка                 15%   \n",
       "2                       NaN  ...                NaN           10% - 12%   \n",
       "3                       NaN  ...       Стальной чан        10.00% - 11%   \n",
       "4                       NaN  ...       Стальной чан                 13%   \n",
       "\n",
       "  Количество в упаковке Температура подачи Friendly  BiO Винтаж Субрегион  \\\n",
       "0                     6              16-18      NaN  NaN    NaN       NaN   \n",
       "1                     6              14-16      NaN  NaN    NaN       NaN   \n",
       "2                     6              10-12      NaN  NaN    NaN       NaN   \n",
       "3                     6               8-10      NaN  NaN    NaN       NaN   \n",
       "4                     6               8-10      NaN  NaN    NaN       NaN   \n",
       "\n",
       "  Выдержка Подарочная упаковка  \n",
       "0      NaN                 NaN  \n",
       "1      NaN                 NaN  \n",
       "2      NaN                 NaN  \n",
       "3      NaN                 NaN  \n",
       "4      NaN                 NaN  \n",
       "\n",
       "[5 rows x 24 columns]"
      ]
     },
     "execution_count": 6,
     "metadata": {},
     "output_type": "execute_result"
    }
   ],
   "source": [
    "df = pd.read_csv('data_save.csv', on_bad_lines='skip')\n",
    "df.head()"
   ]
  },
  {
   "cell_type": "code",
   "execution_count": null,
   "metadata": {},
   "outputs": [],
   "source": []
  }
 ],
 "metadata": {
  "colab": {
   "provenance": []
  },
  "kernelspec": {
   "display_name": "Python 3 (ipykernel)",
   "language": "python",
   "name": "python3"
  },
  "language_info": {
   "codemirror_mode": {
    "name": "ipython",
    "version": 3
   },
   "file_extension": ".py",
   "mimetype": "text/x-python",
   "name": "python",
   "nbconvert_exporter": "python",
   "pygments_lexer": "ipython3",
   "version": "3.9.7"
  }
 },
 "nbformat": 4,
 "nbformat_minor": 1
}
